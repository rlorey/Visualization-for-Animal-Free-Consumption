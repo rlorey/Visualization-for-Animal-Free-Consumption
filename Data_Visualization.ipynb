{
  "nbformat": 4,
  "nbformat_minor": 0,
  "metadata": {
    "colab": {
      "name": "Data_Visualization.ipynb",
      "provenance": [],
      "collapsed_sections": [],
      "include_colab_link": true
    },
    "kernelspec": {
      "name": "python3",
      "display_name": "Python 3"
    },
    "language_info": {
      "name": "python"
    }
  },
  "cells": [
    {
      "cell_type": "markdown",
      "metadata": {
        "id": "view-in-github",
        "colab_type": "text"
      },
      "source": [
        "<a href=\"https://colab.research.google.com/github/rlorey/Visualization-for-Animal-Free-Consumption/blob/main/Data_Visualization.ipynb\" target=\"_parent\"><img src=\"https://colab.research.google.com/assets/colab-badge.svg\" alt=\"Open In Colab\"/></a>"
      ]
    },
    {
      "cell_type": "code",
      "metadata": {
        "colab": {
          "base_uri": "https://localhost:8080/"
        },
        "id": "jcHE52gKwyY2",
        "outputId": "5ba96ac6-74b1-4846-acfc-033a4b219a4b"
      },
      "source": [
        "from google.colab import drive\n",
        "drive.mount ('/content/drive')"
      ],
      "execution_count": null,
      "outputs": [
        {
          "output_type": "stream",
          "name": "stdout",
          "text": [
            "Drive already mounted at /content/drive; to attempt to forcibly remount, call drive.mount(\"/content/drive\", force_remount=True).\n"
          ]
        }
      ]
    },
    {
      "cell_type": "code",
      "metadata": {
        "colab": {
          "base_uri": "https://localhost:8080/",
          "height": 204
        },
        "id": "cG1ZRuojxBdv",
        "outputId": "81d722bb-30ca-478d-9f46-f2e560a36e95"
      },
      "source": [
        "import pandas as pd\n",
        "import numpy as np\n",
        "import matplotlib.pyplot as plt\n",
        "import seaborn as sns\n",
        "filename = ('/content/MMW23.xlsx')\n",
        "df = pd.read_excel(filename)\n",
        "df"
      ],
      "execution_count": null,
      "outputs": [
        {
          "output_type": "execute_result",
          "data": {
            "text/html": [
              "<div>\n",
              "<style scoped>\n",
              "    .dataframe tbody tr th:only-of-type {\n",
              "        vertical-align: middle;\n",
              "    }\n",
              "\n",
              "    .dataframe tbody tr th {\n",
              "        vertical-align: top;\n",
              "    }\n",
              "\n",
              "    .dataframe thead th {\n",
              "        text-align: right;\n",
              "    }\n",
              "</style>\n",
              "<table border=\"1\" class=\"dataframe\">\n",
              "  <thead>\n",
              "    <tr style=\"text-align: right;\">\n",
              "      <th></th>\n",
              "      <th>Category</th>\n",
              "      <th>Daily</th>\n",
              "      <th>Weekly</th>\n",
              "      <th>Monthly</th>\n",
              "      <th>Less often</th>\n",
              "      <th>Never</th>\n",
              "      <th>Do not know</th>\n",
              "    </tr>\n",
              "  </thead>\n",
              "  <tbody>\n",
              "    <tr>\n",
              "      <th>0</th>\n",
              "      <td>Vegan</td>\n",
              "      <td>0.34</td>\n",
              "      <td>0.47</td>\n",
              "      <td>0.17</td>\n",
              "      <td>0.02</td>\n",
              "      <td>0.00</td>\n",
              "      <td>0.00</td>\n",
              "    </tr>\n",
              "    <tr>\n",
              "      <th>1</th>\n",
              "      <td>Vegetarian</td>\n",
              "      <td>0.25</td>\n",
              "      <td>0.44</td>\n",
              "      <td>0.09</td>\n",
              "      <td>0.05</td>\n",
              "      <td>0.14</td>\n",
              "      <td>0.03</td>\n",
              "    </tr>\n",
              "    <tr>\n",
              "      <th>2</th>\n",
              "      <td>Pescatarian</td>\n",
              "      <td>0.18</td>\n",
              "      <td>0.47</td>\n",
              "      <td>0.15</td>\n",
              "      <td>0.09</td>\n",
              "      <td>0.10</td>\n",
              "      <td>0.01</td>\n",
              "    </tr>\n",
              "    <tr>\n",
              "      <th>3</th>\n",
              "      <td>Flexitarian</td>\n",
              "      <td>0.07</td>\n",
              "      <td>0.23</td>\n",
              "      <td>0.21</td>\n",
              "      <td>0.20</td>\n",
              "      <td>0.25</td>\n",
              "      <td>0.04</td>\n",
              "    </tr>\n",
              "    <tr>\n",
              "      <th>4</th>\n",
              "      <td>Meat-eater</td>\n",
              "      <td>0.03</td>\n",
              "      <td>0.08</td>\n",
              "      <td>0.11</td>\n",
              "      <td>0.20</td>\n",
              "      <td>0.52</td>\n",
              "      <td>0.06</td>\n",
              "    </tr>\n",
              "  </tbody>\n",
              "</table>\n",
              "</div>"
            ],
            "text/plain": [
              "      Category  Daily  Weekly  Monthly  Less often  Never  Do not know\n",
              "0        Vegan   0.34    0.47     0.17        0.02   0.00         0.00\n",
              "1   Vegetarian   0.25    0.44     0.09        0.05   0.14         0.03\n",
              "2  Pescatarian   0.18    0.47     0.15        0.09   0.10         0.01\n",
              "3  Flexitarian   0.07    0.23     0.21        0.20   0.25         0.04\n",
              "4   Meat-eater   0.03    0.08     0.11        0.20   0.52         0.06"
            ]
          },
          "metadata": {},
          "execution_count": 34
        }
      ]
    },
    {
      "cell_type": "code",
      "metadata": {
        "id": "gkLmpc5Jxqmt"
      },
      "source": [
        "# How frequently, if at all, do you consume specifically meat-free or animal-free products \n",
        "# such as meat alternatives or dairy substitutes?"
      ],
      "execution_count": null,
      "outputs": []
    },
    {
      "cell_type": "code",
      "metadata": {
        "colab": {
          "base_uri": "https://localhost:8080/",
          "height": 334
        },
        "id": "qSwmRrDkcjjT",
        "outputId": "d5917192-9192-4742-de6d-7764d3a8c03c"
      },
      "source": [
        "df.plot(kind='bar', x = 'Category', stacked=True, cmap = 'RdBu', legend=False )\n",
        "plt.title('Frequency of Meat-Free and Animal Free Product Consumption')\n",
        "plt.xticks(rotation = 45)\n",
        "plt.ylabel('Percentages')\n",
        "plt.legend(loc = (1.02, 0))\n",
        "plt.show()"
      ],
      "execution_count": null,
      "outputs": [
        {
          "output_type": "display_data",
          "data": {
            "image/png": "[encoded data removed]",
            "text/plain": [
              "<Figure size 432x288 with 1 Axes>"
            ]
          },
          "metadata": {
            "needs_background": "light"
          }
        }
      ]
    },
    {
      "cell_type": "code",
      "metadata": {
        "colab": {
          "base_uri": "https://localhost:8080/",
          "height": 204
        },
        "id": "6YvRX9DPrKvL",
        "outputId": "72899778-476e-40dc-d291-73852a3fdf1d"
      },
      "source": [
        "df_t = df.T\n",
        "df_t.head()\n"
      ],
      "execution_count": null,
      "outputs": [
        {
          "output_type": "execute_result",
          "data": {
            "text/html": [
              "<div>\n",
              "<style scoped>\n",
              "    .dataframe tbody tr th:only-of-type {\n",
              "        vertical-align: middle;\n",
              "    }\n",
              "\n",
              "    .dataframe tbody tr th {\n",
              "        vertical-align: top;\n",
              "    }\n",
              "\n",
              "    .dataframe thead th {\n",
              "        text-align: right;\n",
              "    }\n",
              "</style>\n",
              "<table border=\"1\" class=\"dataframe\">\n",
              "  <thead>\n",
              "    <tr style=\"text-align: right;\">\n",
              "      <th></th>\n",
              "      <th>0</th>\n",
              "      <th>1</th>\n",
              "      <th>2</th>\n",
              "      <th>3</th>\n",
              "      <th>4</th>\n",
              "    </tr>\n",
              "  </thead>\n",
              "  <tbody>\n",
              "    <tr>\n",
              "      <th>Category</th>\n",
              "      <td>Vegan</td>\n",
              "      <td>Vegetarian</td>\n",
              "      <td>Pescatarian</td>\n",
              "      <td>Flexitarian</td>\n",
              "      <td>Meat-eater</td>\n",
              "    </tr>\n",
              "    <tr>\n",
              "      <th>Daily</th>\n",
              "      <td>0.34</td>\n",
              "      <td>0.25</td>\n",
              "      <td>0.18</td>\n",
              "      <td>0.07</td>\n",
              "      <td>0.03</td>\n",
              "    </tr>\n",
              "    <tr>\n",
              "      <th>Weekly</th>\n",
              "      <td>0.47</td>\n",
              "      <td>0.44</td>\n",
              "      <td>0.47</td>\n",
              "      <td>0.23</td>\n",
              "      <td>0.08</td>\n",
              "    </tr>\n",
              "    <tr>\n",
              "      <th>Monthly</th>\n",
              "      <td>0.17</td>\n",
              "      <td>0.09</td>\n",
              "      <td>0.15</td>\n",
              "      <td>0.21</td>\n",
              "      <td>0.11</td>\n",
              "    </tr>\n",
              "    <tr>\n",
              "      <th>Less often</th>\n",
              "      <td>0.02</td>\n",
              "      <td>0.05</td>\n",
              "      <td>0.09</td>\n",
              "      <td>0.2</td>\n",
              "      <td>0.2</td>\n",
              "    </tr>\n",
              "  </tbody>\n",
              "</table>\n",
              "</div>"
            ],
            "text/plain": [
              "                0           1            2            3           4\n",
              "Category    Vegan  Vegetarian  Pescatarian  Flexitarian  Meat-eater\n",
              "Daily        0.34        0.25         0.18         0.07        0.03\n",
              "Weekly       0.47        0.44         0.47         0.23        0.08\n",
              "Monthly      0.17        0.09         0.15         0.21        0.11\n",
              "Less often   0.02        0.05         0.09          0.2         0.2"
            ]
          },
          "metadata": {},
          "execution_count": 39
        }
      ]
    },
    {
      "cell_type": "code",
      "metadata": {
        "colab": {
          "base_uri": "https://localhost:8080/",
          "height": 204
        },
        "id": "lW64J4-ju8Ax",
        "outputId": "010caf2b-5a26-4ca9-9ec2-2cec83933ebd"
      },
      "source": [
        "df_t.columns = df_t.iloc[0]\n",
        "df_t = df_t[1:]\n",
        "df_t.head()\n"
      ],
      "execution_count": null,
      "outputs": [
        {
          "output_type": "execute_result",
          "data": {
            "text/html": [
              "<div>\n",
              "<style scoped>\n",
              "    .dataframe tbody tr th:only-of-type {\n",
              "        vertical-align: middle;\n",
              "    }\n",
              "\n",
              "    .dataframe tbody tr th {\n",
              "        vertical-align: top;\n",
              "    }\n",
              "\n",
              "    .dataframe thead th {\n",
              "        text-align: right;\n",
              "    }\n",
              "</style>\n",
              "<table border=\"1\" class=\"dataframe\">\n",
              "  <thead>\n",
              "    <tr style=\"text-align: right;\">\n",
              "      <th>Category</th>\n",
              "      <th>Vegan</th>\n",
              "      <th>Vegetarian</th>\n",
              "      <th>Pescatarian</th>\n",
              "      <th>Flexitarian</th>\n",
              "      <th>Meat-eater</th>\n",
              "    </tr>\n",
              "  </thead>\n",
              "  <tbody>\n",
              "    <tr>\n",
              "      <th>Daily</th>\n",
              "      <td>0.34</td>\n",
              "      <td>0.25</td>\n",
              "      <td>0.18</td>\n",
              "      <td>0.07</td>\n",
              "      <td>0.03</td>\n",
              "    </tr>\n",
              "    <tr>\n",
              "      <th>Weekly</th>\n",
              "      <td>0.47</td>\n",
              "      <td>0.44</td>\n",
              "      <td>0.47</td>\n",
              "      <td>0.23</td>\n",
              "      <td>0.08</td>\n",
              "    </tr>\n",
              "    <tr>\n",
              "      <th>Monthly</th>\n",
              "      <td>0.17</td>\n",
              "      <td>0.09</td>\n",
              "      <td>0.15</td>\n",
              "      <td>0.21</td>\n",
              "      <td>0.11</td>\n",
              "    </tr>\n",
              "    <tr>\n",
              "      <th>Less often</th>\n",
              "      <td>0.02</td>\n",
              "      <td>0.05</td>\n",
              "      <td>0.09</td>\n",
              "      <td>0.2</td>\n",
              "      <td>0.2</td>\n",
              "    </tr>\n",
              "    <tr>\n",
              "      <th>Never</th>\n",
              "      <td>0</td>\n",
              "      <td>0.14</td>\n",
              "      <td>0.1</td>\n",
              "      <td>0.25</td>\n",
              "      <td>0.52</td>\n",
              "    </tr>\n",
              "  </tbody>\n",
              "</table>\n",
              "</div>"
            ],
            "text/plain": [
              "Category   Vegan Vegetarian Pescatarian Flexitarian Meat-eater\n",
              "Daily       0.34       0.25        0.18        0.07       0.03\n",
              "Weekly      0.47       0.44        0.47        0.23       0.08\n",
              "Monthly     0.17       0.09        0.15        0.21       0.11\n",
              "Less often  0.02       0.05        0.09         0.2        0.2\n",
              "Never          0       0.14         0.1        0.25       0.52"
            ]
          },
          "metadata": {},
          "execution_count": 40
        }
      ]
    },
    {
      "cell_type": "code",
      "metadata": {
        "colab": {
          "base_uri": "https://localhost:8080/",
          "height": 636
        },
        "id": "Q3ltkGf9wec0",
        "outputId": "7098ef84-28c6-425d-cc07-cf9deb747ed3"
      },
      "source": [
        "sns.set_style(\"whitegrid\")\n",
        "bar_subplots = df_t.plot(kind='bar', subplots=True, sharey=True, \n",
        "              figsize=(10, 8), legend=False, ylim=(0, 0.5), \n",
        "              grid=False,  edgecolor='none', \n",
        "              fontsize=14, cmap = 'winter')\n",
        "plt.text(-1, 0.5, \"Animal-Free Products Consumed (%)\", fontsize=14, rotation=90)  # add a y-label with custom positioning\n",
        "for ax in bar_subplots:  # set the category name beside the subplot\n",
        "    ax.set_title('') #remove the automatic title setting\n",
        "    y_titles = ax.get_legend_handles_labels()[1][0] #establish y-titles as column headings\n",
        "    ax.text(5.8, 0, y_titles, fontsize=14) #customize the position on plot and fontsize\n",
        "plt.ylabel('')\n",
        "plt.suptitle(\"Frequency of Animal-Free Consumption\", fontsize=18)\n"
      ],
      "execution_count": null,
      "outputs": [
        {
          "output_type": "execute_result",
          "data": {
            "text/plain": [
              "Text(0.5, 0.98, 'Frequency of Animal-Free Consumption')"
            ]
          },
          "metadata": {},
          "execution_count": 96
        },
        {
          "output_type": "display_data",
          "data": {
            "image/png": "[encoded data removed]",
            "text/plain": [
              "<Figure size 720x576 with 5 Axes>"
            ]
          },
          "metadata": {}
        }
      ]
    }
  ]
}